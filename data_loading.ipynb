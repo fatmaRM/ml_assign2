{
 "cells": [
  {
   "cell_type": "code",
   "execution_count": 98,
   "id": "e0d7f2ba",
   "metadata": {},
   "outputs": [
    {
     "data": {
      "text/html": [
       "<div>\n",
       "<style scoped>\n",
       "    .dataframe tbody tr th:only-of-type {\n",
       "        vertical-align: middle;\n",
       "    }\n",
       "\n",
       "    .dataframe tbody tr th {\n",
       "        vertical-align: top;\n",
       "    }\n",
       "\n",
       "    .dataframe thead th {\n",
       "        text-align: right;\n",
       "    }\n",
       "</style>\n",
       "<table border=\"1\" class=\"dataframe\">\n",
       "  <thead>\n",
       "    <tr style=\"text-align: right;\">\n",
       "      <th></th>\n",
       "      <th>Unnamed: 0</th>\n",
       "      <th>rating</th>\n",
       "      <th>reviewText</th>\n",
       "      <th>summary</th>\n",
       "    </tr>\n",
       "  </thead>\n",
       "  <tbody>\n",
       "    <tr>\n",
       "      <th>0</th>\n",
       "      <td>0</td>\n",
       "      <td>5</td>\n",
       "      <td>This book was the very first bookmobile book I...</td>\n",
       "      <td>50 + years ago...</td>\n",
       "    </tr>\n",
       "    <tr>\n",
       "      <th>1</th>\n",
       "      <td>1</td>\n",
       "      <td>1</td>\n",
       "      <td>When I read the description for this book, I c...</td>\n",
       "      <td>Boring! Boring! Boring!</td>\n",
       "    </tr>\n",
       "    <tr>\n",
       "      <th>2</th>\n",
       "      <td>2</td>\n",
       "      <td>5</td>\n",
       "      <td>I just had to edit this review. This book is a...</td>\n",
       "      <td>Wiggleliscious/new toy ready/!!</td>\n",
       "    </tr>\n",
       "    <tr>\n",
       "      <th>3</th>\n",
       "      <td>3</td>\n",
       "      <td>5</td>\n",
       "      <td>I don't normally buy 'mystery' novels because ...</td>\n",
       "      <td>Very good read.</td>\n",
       "    </tr>\n",
       "    <tr>\n",
       "      <th>4</th>\n",
       "      <td>4</td>\n",
       "      <td>5</td>\n",
       "      <td>This isn't the kind of book I normally read, a...</td>\n",
       "      <td>Great Story!</td>\n",
       "    </tr>\n",
       "  </tbody>\n",
       "</table>\n",
       "</div>"
      ],
      "text/plain": [
       "   Unnamed: 0  rating                                         reviewText  \\\n",
       "0           0       5  This book was the very first bookmobile book I...   \n",
       "1           1       1  When I read the description for this book, I c...   \n",
       "2           2       5  I just had to edit this review. This book is a...   \n",
       "3           3       5  I don't normally buy 'mystery' novels because ...   \n",
       "4           4       5  This isn't the kind of book I normally read, a...   \n",
       "\n",
       "                           summary  \n",
       "0                50 + years ago...  \n",
       "1          Boring! Boring! Boring!  \n",
       "2  Wiggleliscious/new toy ready/!!  \n",
       "3                  Very good read.  \n",
       "4                     Great Story!  "
      ]
     },
     "execution_count": 98,
     "metadata": {},
     "output_type": "execute_result"
    }
   ],
   "source": [
    "import pandas as pd\n",
    "\n",
    "review_data=pd.read_csv('amazon/preprocessed_kindle_review .csv')\n",
    "review_data.head()"
   ]
  },
  {
   "cell_type": "code",
   "execution_count": 70,
   "id": "c8609fcb",
   "metadata": {},
   "outputs": [
    {
     "data": {
      "text/plain": [
       "(12000, 4)"
      ]
     },
     "execution_count": 70,
     "metadata": {},
     "output_type": "execute_result"
    }
   ],
   "source": [
    "review_data.shape"
   ]
  },
  {
   "cell_type": "code",
   "execution_count": 71,
   "id": "989cb193",
   "metadata": {},
   "outputs": [
    {
     "name": "stdout",
     "output_type": "stream",
     "text": [
      "<class 'pandas.core.frame.DataFrame'>\n",
      "RangeIndex: 12000 entries, 0 to 11999\n",
      "Data columns (total 4 columns):\n",
      " #   Column      Non-Null Count  Dtype \n",
      "---  ------      --------------  ----- \n",
      " 0   Unnamed: 0  12000 non-null  int64 \n",
      " 1   rating      12000 non-null  int64 \n",
      " 2   reviewText  12000 non-null  object\n",
      " 3   summary     12000 non-null  object\n",
      "dtypes: int64(2), object(2)\n",
      "memory usage: 375.1+ KB\n"
     ]
    }
   ],
   "source": [
    "review_data.info()"
   ]
  },
  {
   "cell_type": "code",
   "execution_count": 72,
   "id": "0b8b8a51",
   "metadata": {},
   "outputs": [
    {
     "data": {
      "text/plain": [
       "Unnamed: 0    0\n",
       "rating        0\n",
       "reviewText    0\n",
       "summary       0\n",
       "dtype: int64"
      ]
     },
     "execution_count": 72,
     "metadata": {},
     "output_type": "execute_result"
    }
   ],
   "source": [
    "#checking null values \n",
    "review_data.isnull().sum()"
   ]
  },
  {
   "cell_type": "code",
   "execution_count": 7,
   "id": "5ad0ebeb",
   "metadata": {},
   "outputs": [
    {
     "data": {
      "text/plain": [
       "False"
      ]
     },
     "execution_count": 7,
     "metadata": {},
     "output_type": "execute_result"
    }
   ],
   "source": [
    "review_data['reviewText'].duplicated().any()"
   ]
  },
  {
   "cell_type": "code",
   "execution_count": 73,
   "id": "8be4ff7e",
   "metadata": {},
   "outputs": [],
   "source": [
    "#no need for id  and summary for the problem \n",
    "review_data=review_data.drop(columns=['summary','Unnamed: 0'])"
   ]
  },
  {
   "cell_type": "code",
   "execution_count": 74,
   "id": "8031fdd0",
   "metadata": {},
   "outputs": [
    {
     "data": {
      "text/html": [
       "<div>\n",
       "<style scoped>\n",
       "    .dataframe tbody tr th:only-of-type {\n",
       "        vertical-align: middle;\n",
       "    }\n",
       "\n",
       "    .dataframe tbody tr th {\n",
       "        vertical-align: top;\n",
       "    }\n",
       "\n",
       "    .dataframe thead th {\n",
       "        text-align: right;\n",
       "    }\n",
       "</style>\n",
       "<table border=\"1\" class=\"dataframe\">\n",
       "  <thead>\n",
       "    <tr style=\"text-align: right;\">\n",
       "      <th></th>\n",
       "      <th>rating</th>\n",
       "      <th>reviewText</th>\n",
       "    </tr>\n",
       "  </thead>\n",
       "  <tbody>\n",
       "    <tr>\n",
       "      <th>0</th>\n",
       "      <td>5</td>\n",
       "      <td>This book was the very first bookmobile book I...</td>\n",
       "    </tr>\n",
       "    <tr>\n",
       "      <th>1</th>\n",
       "      <td>1</td>\n",
       "      <td>When I read the description for this book, I c...</td>\n",
       "    </tr>\n",
       "    <tr>\n",
       "      <th>2</th>\n",
       "      <td>5</td>\n",
       "      <td>I just had to edit this review. This book is a...</td>\n",
       "    </tr>\n",
       "    <tr>\n",
       "      <th>3</th>\n",
       "      <td>5</td>\n",
       "      <td>I don't normally buy 'mystery' novels because ...</td>\n",
       "    </tr>\n",
       "    <tr>\n",
       "      <th>4</th>\n",
       "      <td>5</td>\n",
       "      <td>This isn't the kind of book I normally read, a...</td>\n",
       "    </tr>\n",
       "  </tbody>\n",
       "</table>\n",
       "</div>"
      ],
      "text/plain": [
       "   rating                                         reviewText\n",
       "0       5  This book was the very first bookmobile book I...\n",
       "1       1  When I read the description for this book, I c...\n",
       "2       5  I just had to edit this review. This book is a...\n",
       "3       5  I don't normally buy 'mystery' novels because ...\n",
       "4       5  This isn't the kind of book I normally read, a..."
      ]
     },
     "execution_count": 74,
     "metadata": {},
     "output_type": "execute_result"
    }
   ],
   "source": [
    "review_data.head()"
   ]
  },
  {
   "cell_type": "code",
   "execution_count": 99,
   "id": "e36a6145",
   "metadata": {},
   "outputs": [
    {
     "name": "stdout",
     "output_type": "stream",
     "text": [
      "18715\n",
      "13\n"
     ]
    },
    {
     "data": {
      "text/plain": [
       "Text(0.5, 1.0, 'average no. of words in reviews vs. ratings ')"
      ]
     },
     "execution_count": 99,
     "metadata": {},
     "output_type": "execute_result"
    },
    {
     "data": {
      "image/png": "[encoded data removed]",
      "text/plain": [
       "<Figure size 1080x1080 with 1 Axes>"
      ]
     },
     "metadata": {
      "needs_background": "light"
     },
     "output_type": "display_data"
    }
   ],
   "source": [
    "#check the size of reviewText \n",
    "import matplotlib.pyplot as plt\n",
    "import seaborn as sns\n",
    "\n",
    "review_data['word_count']=review_data['reviewText'].apply(lambda x:len(str(x.split())))\n",
    "print (review_data['word_count'].max())\n",
    "print (review_data['word_count'].min())\n",
    "\n",
    "plt.figure(figsize=(15,15))\n",
    "sns.barplot(x='rating',y='word_count',data=review_data)\n",
    "plt.title('average no. of words in reviews vs. ratings ')"
   ]
  },
  {
   "cell_type": "code",
   "execution_count": 100,
   "id": "02bad02e",
   "metadata": {},
   "outputs": [
    {
     "data": {
      "image/png": "[encoded data removed]",
      "text/plain": [
       "<Figure size 360x360 with 1 Axes>"
      ]
     },
     "metadata": {},
     "output_type": "display_data"
    }
   ],
   "source": [
    "# no gap between text vs. rating \n",
    "# will check the precentage of each review relative to the whole dataset \n",
    "review_data.rating.value_counts()\n",
    "df = pd.DataFrame(review_data.rating.value_counts())\n",
    "plot = df.plot.pie(y='rating', figsize=(5, 5))"
   ]
  },
  {
   "cell_type": "code",
   "execution_count": 77,
   "id": "9c019655",
   "metadata": {},
   "outputs": [
    {
     "name": "stdout",
     "output_type": "stream",
     "text": [
      "# '1':\n",
      "  . Most correlated unigrams:\n",
      ". deleted\n",
      ". waste\n",
      "  . Most correlated bigrams:\n",
      ". don waste\n",
      ". waste time\n",
      "# '2':\n",
      "  . Most correlated unigrams:\n",
      ". loved\n",
      ". didn\n",
      "  . Most correlated bigrams:\n",
      ". did finish\n",
      ". finish book\n",
      "# '3':\n",
      "  . Most correlated unigrams:\n",
      ". ok\n",
      ". okay\n",
      "  . Most correlated bigrams:\n",
      ". ok read\n",
      ". just okay\n",
      "# '4':\n",
      "  . Most correlated unigrams:\n",
      ". liked\n",
      ". enjoyed\n",
      "  . Most correlated bigrams:\n",
      ". good read\n",
      ". enjoyed book\n",
      "# '5':\n",
      "  . Most correlated unigrams:\n",
      ". wonderful\n",
      ". loved\n",
      "  . Most correlated bigrams:\n",
      ". wait read\n",
      ". highly recommend\n"
     ]
    }
   ],
   "source": [
    "#checking on the most frequent n-gram of review with each rating \n",
    "from sklearn.feature_extraction.text import TfidfVectorizer\n",
    "tfidf = TfidfVectorizer(analyzer='word' ,sublinear_tf=True, min_df=5, norm='l2', encoding='latin-1', ngram_range=(1, 2), stop_words='english')\n",
    "features = tfidf.fit_transform(review_data.reviewText).toarray()\n",
    "features.shape\n",
    "\n",
    "from sklearn.feature_selection import chi2\n",
    "import numpy as np\n",
    "all_rating=[1,2,3,4,5]\n",
    "N=2\n",
    "for label in sorted(all_rating):\n",
    "  features_chi2 = chi2(features, review_data.rating == label)\n",
    "  indices = np.argsort(features_chi2[0])\n",
    "  feature_names = np.array(tfidf.get_feature_names())[indices]\n",
    "  unigrams = [v for v in feature_names if len(v.split(' ')) == 1]\n",
    "  bigrams = [v for v in feature_names if len(v.split(' ')) == 2]\n",
    "  print(\"# '{}':\".format(label))\n",
    "  print(\"  . Most correlated unigrams:\\n. {}\".format('\\n. '.join(unigrams[-N:])))\n",
    "  print(\"  . Most correlated bigrams:\\n. {}\".format('\\n. '.join(bigrams[-N:])))\n"
   ]
  },
  {
   "cell_type": "code",
   "execution_count": 78,
   "id": "8ea07b45",
   "metadata": {},
   "outputs": [],
   "source": [
    "#for sentiment analaysis we will consider 1 2 3 as 0 - negative review and 4 5 as 1 for postivity \n",
    "\n",
    "# Converting 1,2,3 to 0 \n",
    "# Converting 4,5 to 1\n",
    "\n",
    "review_data.rating=review_data.rating.replace([1,2,3],0)\n",
    "review_data.rating=review_data.rating.replace([4,5],1)"
   ]
  },
  {
   "cell_type": "code",
   "execution_count": 79,
   "id": "2645c93c",
   "metadata": {},
   "outputs": [
    {
     "data": {
      "image/png": "[encoded data removed]",
      "text/plain": [
       "<Figure size 360x360 with 1 Axes>"
      ]
     },
     "metadata": {},
     "output_type": "display_data"
    }
   ],
   "source": [
    "#replotting after changing ratings \n",
    "review_data.rating.value_counts()\n",
    "df = pd.DataFrame(review_data.rating.value_counts())\n",
    "plot = df.plot.pie(y='rating', figsize=(5, 5))"
   ]
  },
  {
   "cell_type": "raw",
   "id": "3591e605",
   "metadata": {},
   "source": [
    "\n"
   ]
  },
  {
   "cell_type": "code",
   "execution_count": 80,
   "id": "f05b7df0",
   "metadata": {},
   "outputs": [
    {
     "data": {
      "text/html": [
       "<div>\n",
       "<style scoped>\n",
       "    .dataframe tbody tr th:only-of-type {\n",
       "        vertical-align: middle;\n",
       "    }\n",
       "\n",
       "    .dataframe tbody tr th {\n",
       "        vertical-align: top;\n",
       "    }\n",
       "\n",
       "    .dataframe thead th {\n",
       "        text-align: right;\n",
       "    }\n",
       "</style>\n",
       "<table border=\"1\" class=\"dataframe\">\n",
       "  <thead>\n",
       "    <tr style=\"text-align: right;\">\n",
       "      <th></th>\n",
       "      <th>rating</th>\n",
       "      <th>reviewText</th>\n",
       "      <th>word_count</th>\n",
       "    </tr>\n",
       "  </thead>\n",
       "  <tbody>\n",
       "    <tr>\n",
       "      <th>0</th>\n",
       "      <td>1</td>\n",
       "      <td>This book was the very first bookmobile book I...</td>\n",
       "      <td>482</td>\n",
       "    </tr>\n",
       "    <tr>\n",
       "      <th>1</th>\n",
       "      <td>0</td>\n",
       "      <td>When I read the description for this book, I c...</td>\n",
       "      <td>3223</td>\n",
       "    </tr>\n",
       "    <tr>\n",
       "      <th>2</th>\n",
       "      <td>1</td>\n",
       "      <td>I just had to edit this review. This book is a...</td>\n",
       "      <td>3772</td>\n",
       "    </tr>\n",
       "    <tr>\n",
       "      <th>3</th>\n",
       "      <td>1</td>\n",
       "      <td>I don't normally buy 'mystery' novels because ...</td>\n",
       "      <td>564</td>\n",
       "    </tr>\n",
       "    <tr>\n",
       "      <th>4</th>\n",
       "      <td>1</td>\n",
       "      <td>This isn't the kind of book I normally read, a...</td>\n",
       "      <td>603</td>\n",
       "    </tr>\n",
       "  </tbody>\n",
       "</table>\n",
       "</div>"
      ],
      "text/plain": [
       "   rating                                         reviewText  word_count\n",
       "0       1  This book was the very first bookmobile book I...         482\n",
       "1       0  When I read the description for this book, I c...        3223\n",
       "2       1  I just had to edit this review. This book is a...        3772\n",
       "3       1  I don't normally buy 'mystery' novels because ...         564\n",
       "4       1  This isn't the kind of book I normally read, a...         603"
      ]
     },
     "execution_count": 80,
     "metadata": {},
     "output_type": "execute_result"
    }
   ],
   "source": [
    "review_data.head()"
   ]
  },
  {
   "cell_type": "code",
   "execution_count": 81,
   "id": "7e80b545",
   "metadata": {},
   "outputs": [],
   "source": [
    "#save the dataframe contains the review_Data\n",
    "review_data.to_csv('book_review.csv')"
   ]
  },
  {
   "cell_type": "code",
   "execution_count": 82,
   "id": "ed70567d",
   "metadata": {},
   "outputs": [
    {
     "data": {
      "text/plain": [
       "(12000, 18945)"
      ]
     },
     "execution_count": 82,
     "metadata": {},
     "output_type": "execute_result"
    }
   ],
   "source": [
    "features.shape"
   ]
  },
  {
   "cell_type": "code",
   "execution_count": 102,
   "id": "40f4e2fb",
   "metadata": {},
   "outputs": [
    {
     "data": {
      "text/plain": [
       "(12000, 9089)"
      ]
     },
     "execution_count": 102,
     "metadata": {},
     "output_type": "execute_result"
    }
   ],
   "source": [
    "#adjust parameters to decrease feature size remove 2 grames from tfidf\n",
    "from sklearn.feature_extraction.text import TfidfVectorizer\n",
    "tfidf = TfidfVectorizer(analyzer='word' , min_df=5, encoding='latin-1', stop_words='english')\n",
    "features = tfidf.fit_transform(review_data.reviewText).toarray()\n",
    "features.shape"
   ]
  },
  {
   "cell_type": "code",
   "execution_count": 103,
   "id": "54c70252",
   "metadata": {},
   "outputs": [],
   "source": [
    "import nltk\n",
    "import string\n",
    "from nltk import word_tokenize\n",
    "from nltk.corpus import stopwords\n",
    "from nltk.stem.porter import PorterStemmer\n",
    "from nltk import pos_tag\n",
    "from nltk.stem import WordNetLemmatizer\n",
    "wordnet_lemmatizer = WordNetLemmatizer()\n",
    "def preprocess(text):\n",
    "   # f = open(filename,'r')\n",
    "   # text = f.read()\n",
    "    text = text.lower()\n",
    "    \n",
    "    text_p = \"\".join([char for char in text if char not in string.punctuation])\n",
    "    \n",
    "    words = word_tokenize(text_p)\n",
    "    \n",
    "    stop_words = stopwords.words('english')\n",
    "    filtered_words = [word for word in words if word not in stop_words]\n",
    "    \n",
    "    porter = PorterStemmer()\n",
    "    stemmed = [porter.stem(word) for word in filtered_words]\n",
    "    \n",
    "    \n",
    "    lemma =[wordnet_lemmatizer.lemmatize(word, pos=\"v\") for word in filtered_words]\n",
    "    #pos = pos_tag(filtered_words)\n",
    "    mystr =' '.join(lemma)\n",
    "    return  mystr"
   ]
  },
  {
   "cell_type": "code",
   "execution_count": 104,
   "id": "34ec4afd",
   "metadata": {},
   "outputs": [],
   "source": [
    "review_data['word_lemma']=review_data['reviewText'].apply(lambda x:preprocess(x))"
   ]
  },
  {
   "cell_type": "code",
   "execution_count": 105,
   "id": "6b325142",
   "metadata": {},
   "outputs": [
    {
     "data": {
      "text/html": [
       "<div>\n",
       "<style scoped>\n",
       "    .dataframe tbody tr th:only-of-type {\n",
       "        vertical-align: middle;\n",
       "    }\n",
       "\n",
       "    .dataframe tbody tr th {\n",
       "        vertical-align: top;\n",
       "    }\n",
       "\n",
       "    .dataframe thead th {\n",
       "        text-align: right;\n",
       "    }\n",
       "</style>\n",
       "<table border=\"1\" class=\"dataframe\">\n",
       "  <thead>\n",
       "    <tr style=\"text-align: right;\">\n",
       "      <th></th>\n",
       "      <th>Unnamed: 0</th>\n",
       "      <th>rating</th>\n",
       "      <th>reviewText</th>\n",
       "      <th>summary</th>\n",
       "      <th>word_count</th>\n",
       "      <th>word_lemma</th>\n",
       "    </tr>\n",
       "  </thead>\n",
       "  <tbody>\n",
       "    <tr>\n",
       "      <th>0</th>\n",
       "      <td>0</td>\n",
       "      <td>5</td>\n",
       "      <td>This book was the very first bookmobile book I...</td>\n",
       "      <td>50 + years ago...</td>\n",
       "      <td>482</td>\n",
       "      <td>book first bookmobile book buy school book clu...</td>\n",
       "    </tr>\n",
       "    <tr>\n",
       "      <th>1</th>\n",
       "      <td>1</td>\n",
       "      <td>1</td>\n",
       "      <td>When I read the description for this book, I c...</td>\n",
       "      <td>Boring! Boring! Boring!</td>\n",
       "      <td>3223</td>\n",
       "      <td>read description book couldnt wait read downlo...</td>\n",
       "    </tr>\n",
       "    <tr>\n",
       "      <th>2</th>\n",
       "      <td>2</td>\n",
       "      <td>5</td>\n",
       "      <td>I just had to edit this review. This book is a...</td>\n",
       "      <td>Wiggleliscious/new toy ready/!!</td>\n",
       "      <td>3772</td>\n",
       "      <td>edit review book believe get right update rewr...</td>\n",
       "    </tr>\n",
       "    <tr>\n",
       "      <th>3</th>\n",
       "      <td>3</td>\n",
       "      <td>5</td>\n",
       "      <td>I don't normally buy 'mystery' novels because ...</td>\n",
       "      <td>Very good read.</td>\n",
       "      <td>564</td>\n",
       "      <td>dont normally buy mystery novels dont like how...</td>\n",
       "    </tr>\n",
       "    <tr>\n",
       "      <th>4</th>\n",
       "      <td>4</td>\n",
       "      <td>5</td>\n",
       "      <td>This isn't the kind of book I normally read, a...</td>\n",
       "      <td>Great Story!</td>\n",
       "      <td>603</td>\n",
       "      <td>isnt kind book normally read although try limi...</td>\n",
       "    </tr>\n",
       "  </tbody>\n",
       "</table>\n",
       "</div>"
      ],
      "text/plain": [
       "   Unnamed: 0  rating                                         reviewText  \\\n",
       "0           0       5  This book was the very first bookmobile book I...   \n",
       "1           1       1  When I read the description for this book, I c...   \n",
       "2           2       5  I just had to edit this review. This book is a...   \n",
       "3           3       5  I don't normally buy 'mystery' novels because ...   \n",
       "4           4       5  This isn't the kind of book I normally read, a...   \n",
       "\n",
       "                           summary  word_count  \\\n",
       "0                50 + years ago...         482   \n",
       "1          Boring! Boring! Boring!        3223   \n",
       "2  Wiggleliscious/new toy ready/!!        3772   \n",
       "3                  Very good read.         564   \n",
       "4                     Great Story!         603   \n",
       "\n",
       "                                          word_lemma  \n",
       "0  book first bookmobile book buy school book clu...  \n",
       "1  read description book couldnt wait read downlo...  \n",
       "2  edit review book believe get right update rewr...  \n",
       "3  dont normally buy mystery novels dont like how...  \n",
       "4  isnt kind book normally read although try limi...  "
      ]
     },
     "execution_count": 105,
     "metadata": {},
     "output_type": "execute_result"
    }
   ],
   "source": [
    "review_data.head()"
   ]
  },
  {
   "cell_type": "code",
   "execution_count": 87,
   "id": "e78c0576",
   "metadata": {},
   "outputs": [],
   "source": [
    "mystr  = preprocess(review_data['reviewText'][1])\n"
   ]
  },
  {
   "cell_type": "code",
   "execution_count": 106,
   "id": "3ad1dffd",
   "metadata": {},
   "outputs": [
    {
     "name": "stdout",
     "output_type": "stream",
     "text": [
      "mystr: When I read the description for this book, I couldn't wait to read it. Once I downloaded it to my Kindle, I found it extremely hard to keep reading it.  To be honest, I stopped reading halfway through the book. It began slow and remained a slow, uninteresting read.  It lacked passion; not making love passion, but passion for life. Neither Jada or Aaron were interesting characters and the story was too, too `everything is perfect'.  Everybody is just so understanding and accommodating--the bit of drama with his father and her grandmother was blah.  To give an example of what I mean (and there are MANY), Aaron finally finds out almost  half way into the book that he fathered a child 5 years ago--keep in mind that Aaron and Jada kept in contact for a few months after he left and she never mentioned to him that she was pregnant. When she finally tells him he has a son, Aaron becomes overwhelmed with emotions (misty eyed) knowing that he's a father. WTH!  I think most men would be upset/angry to know that they had a child and the woman they love never told them! Not in this book; it's all good--all is well; NO PASSION.  OMG, don't let me get started on the scene when father and son finally meet. It was so over the top, it made me want to barf. Maybe if this scene had been towards the beginning of the book, it would have been touching. In the middle of the book after just too much blah it made me thrown down my kindle.  It was like eating a sweet dessert that was so sweet it made your teeth hurt. This book had a good theme, but no follow-through. Also, if we're to believe that Jada graduated from Harvard, then let it be reflected in her speech and her job. We're told that she has this wonderful personality which caused Aaron to fall in love with her--never saw it. If the author had described her as depressed and foolish--Yes! I would believe it in a heartbeat. She was boring. This book was so frustrating to read.  I truly struggled to read it as far as I did.  I finally stopped torturing myself because I realized it wasn't going to get any better.\n"
     ]
    }
   ],
   "source": [
    "print('mystr:', (mystr))\n"
   ]
  },
  {
   "cell_type": "code",
   "execution_count": 107,
   "id": "45bb4aa6",
   "metadata": {},
   "outputs": [
    {
     "name": "stdout",
     "output_type": "stream",
     "text": [
      "mystr: When I read the description for this book, I couldn't wait to read it. Once I downloaded it to my Kindle, I found it extremely hard to keep reading it.  To be honest, I stopped reading halfway through the book. It began slow and remained a slow, uninteresting read.  It lacked passion; not making love passion, but passion for life. Neither Jada or Aaron were interesting characters and the story was too, too `everything is perfect'.  Everybody is just so understanding and accommodating--the bit of drama with his father and her grandmother was blah.  To give an example of what I mean (and there are MANY), Aaron finally finds out almost  half way into the book that he fathered a child 5 years ago--keep in mind that Aaron and Jada kept in contact for a few months after he left and she never mentioned to him that she was pregnant. When she finally tells him he has a son, Aaron becomes overwhelmed with emotions (misty eyed) knowing that he's a father. WTH!  I think most men would be upset/angry to know that they had a child and the woman they love never told them! Not in this book; it's all good--all is well; NO PASSION.  OMG, don't let me get started on the scene when father and son finally meet. It was so over the top, it made me want to barf. Maybe if this scene had been towards the beginning of the book, it would have been touching. In the middle of the book after just too much blah it made me thrown down my kindle.  It was like eating a sweet dessert that was so sweet it made your teeth hurt. This book had a good theme, but no follow-through. Also, if we're to believe that Jada graduated from Harvard, then let it be reflected in her speech and her job. We're told that she has this wonderful personality which caused Aaron to fall in love with her--never saw it. If the author had described her as depressed and foolish--Yes! I would believe it in a heartbeat. She was boring. This book was so frustrating to read.  I truly struggled to read it as far as I did.  I finally stopped torturing myself because I realized it wasn't going to get any better.\n"
     ]
    }
   ],
   "source": [
    "mystr  = (review_data['reviewText'][1])\n",
    "print('mystr:', (mystr))"
   ]
  },
  {
   "cell_type": "code",
   "execution_count": 108,
   "id": "825cd8da",
   "metadata": {},
   "outputs": [],
   "source": [
    "review_data['word_lemma_count']=review_data['word_lemma'].apply(lambda x:len((x.split())))\n"
   ]
  },
  {
   "cell_type": "code",
   "execution_count": 109,
   "id": "98381f13",
   "metadata": {},
   "outputs": [
    {
     "data": {
      "text/html": [
       "<div>\n",
       "<style scoped>\n",
       "    .dataframe tbody tr th:only-of-type {\n",
       "        vertical-align: middle;\n",
       "    }\n",
       "\n",
       "    .dataframe tbody tr th {\n",
       "        vertical-align: top;\n",
       "    }\n",
       "\n",
       "    .dataframe thead th {\n",
       "        text-align: right;\n",
       "    }\n",
       "</style>\n",
       "<table border=\"1\" class=\"dataframe\">\n",
       "  <thead>\n",
       "    <tr style=\"text-align: right;\">\n",
       "      <th></th>\n",
       "      <th>Unnamed: 0</th>\n",
       "      <th>rating</th>\n",
       "      <th>reviewText</th>\n",
       "      <th>summary</th>\n",
       "      <th>word_count</th>\n",
       "      <th>word_lemma</th>\n",
       "      <th>word_lemma_count</th>\n",
       "    </tr>\n",
       "  </thead>\n",
       "  <tbody>\n",
       "    <tr>\n",
       "      <th>0</th>\n",
       "      <td>0</td>\n",
       "      <td>5</td>\n",
       "      <td>This book was the very first bookmobile book I...</td>\n",
       "      <td>50 + years ago...</td>\n",
       "      <td>482</td>\n",
       "      <td>book first bookmobile book buy school book clu...</td>\n",
       "      <td>26</td>\n",
       "    </tr>\n",
       "    <tr>\n",
       "      <th>1</th>\n",
       "      <td>1</td>\n",
       "      <td>1</td>\n",
       "      <td>When I read the description for this book, I c...</td>\n",
       "      <td>Boring! Boring! Boring!</td>\n",
       "      <td>3223</td>\n",
       "      <td>read description book couldnt wait read downlo...</td>\n",
       "      <td>181</td>\n",
       "    </tr>\n",
       "    <tr>\n",
       "      <th>2</th>\n",
       "      <td>2</td>\n",
       "      <td>5</td>\n",
       "      <td>I just had to edit this review. This book is a...</td>\n",
       "      <td>Wiggleliscious/new toy ready/!!</td>\n",
       "      <td>3772</td>\n",
       "      <td>edit review book believe get right update rewr...</td>\n",
       "      <td>238</td>\n",
       "    </tr>\n",
       "    <tr>\n",
       "      <th>3</th>\n",
       "      <td>3</td>\n",
       "      <td>5</td>\n",
       "      <td>I don't normally buy 'mystery' novels because ...</td>\n",
       "      <td>Very good read.</td>\n",
       "      <td>564</td>\n",
       "      <td>dont normally buy mystery novels dont like how...</td>\n",
       "      <td>34</td>\n",
       "    </tr>\n",
       "    <tr>\n",
       "      <th>4</th>\n",
       "      <td>4</td>\n",
       "      <td>5</td>\n",
       "      <td>This isn't the kind of book I normally read, a...</td>\n",
       "      <td>Great Story!</td>\n",
       "      <td>603</td>\n",
       "      <td>isnt kind book normally read although try limi...</td>\n",
       "      <td>40</td>\n",
       "    </tr>\n",
       "  </tbody>\n",
       "</table>\n",
       "</div>"
      ],
      "text/plain": [
       "   Unnamed: 0  rating                                         reviewText  \\\n",
       "0           0       5  This book was the very first bookmobile book I...   \n",
       "1           1       1  When I read the description for this book, I c...   \n",
       "2           2       5  I just had to edit this review. This book is a...   \n",
       "3           3       5  I don't normally buy 'mystery' novels because ...   \n",
       "4           4       5  This isn't the kind of book I normally read, a...   \n",
       "\n",
       "                           summary  word_count  \\\n",
       "0                50 + years ago...         482   \n",
       "1          Boring! Boring! Boring!        3223   \n",
       "2  Wiggleliscious/new toy ready/!!        3772   \n",
       "3                  Very good read.         564   \n",
       "4                     Great Story!         603   \n",
       "\n",
       "                                          word_lemma  word_lemma_count  \n",
       "0  book first bookmobile book buy school book clu...                26  \n",
       "1  read description book couldnt wait read downlo...               181  \n",
       "2  edit review book believe get right update rewr...               238  \n",
       "3  dont normally buy mystery novels dont like how...                34  \n",
       "4  isnt kind book normally read although try limi...                40  "
      ]
     },
     "execution_count": 109,
     "metadata": {},
     "output_type": "execute_result"
    }
   ],
   "source": [
    "review_data.head()"
   ]
  },
  {
   "cell_type": "code",
   "execution_count": 110,
   "id": "86814e5f",
   "metadata": {},
   "outputs": [
    {
     "name": "stdout",
     "output_type": "stream",
     "text": [
      "1134\n",
      "1\n"
     ]
    }
   ],
   "source": [
    "print (review_data['word_lemma_count'].max())\n",
    "print (review_data['word_lemma_count'].min())"
   ]
  },
  {
   "cell_type": "code",
   "execution_count": 93,
   "id": "6402f8e6",
   "metadata": {},
   "outputs": [
    {
     "data": {
      "text/plain": [
       "(12000, 7543)"
      ]
     },
     "execution_count": 93,
     "metadata": {},
     "output_type": "execute_result"
    }
   ],
   "source": [
    "#adjust parameters to decrease feature size remove 2 grames from tfidf\n",
    "from sklearn.feature_extraction.text import TfidfVectorizer\n",
    "tfidf = TfidfVectorizer(analyzer='word' , min_df=5, encoding='latin-1', stop_words='english')\n",
    "features = tfidf.fit_transform(review_data.word_lemma).toarray()\n",
    "features.shape"
   ]
  },
  {
   "cell_type": "code",
   "execution_count": 94,
   "id": "ea33fee7",
   "metadata": {},
   "outputs": [],
   "source": [
    "#save lemma based review file to be used in our model \n",
    "review_data.to_csv('book_review_lemma.csv')"
   ]
  },
  {
   "cell_type": "code",
   "execution_count": 112,
   "id": "d43db49f",
   "metadata": {},
   "outputs": [],
   "source": [
    "report=review_data.drop(columns=['summary','Unnamed: 0'])"
   ]
  },
  {
   "cell_type": "code",
   "execution_count": 113,
   "id": "262bc492",
   "metadata": {
    "scrolled": true
   },
   "outputs": [
    {
     "data": {
      "text/html": [
       "<div>\n",
       "<style scoped>\n",
       "    .dataframe tbody tr th:only-of-type {\n",
       "        vertical-align: middle;\n",
       "    }\n",
       "\n",
       "    .dataframe tbody tr th {\n",
       "        vertical-align: top;\n",
       "    }\n",
       "\n",
       "    .dataframe thead th {\n",
       "        text-align: right;\n",
       "    }\n",
       "</style>\n",
       "<table border=\"1\" class=\"dataframe\">\n",
       "  <thead>\n",
       "    <tr style=\"text-align: right;\">\n",
       "      <th></th>\n",
       "      <th>rating</th>\n",
       "      <th>reviewText</th>\n",
       "      <th>word_count</th>\n",
       "      <th>word_lemma</th>\n",
       "      <th>word_lemma_count</th>\n",
       "    </tr>\n",
       "  </thead>\n",
       "  <tbody>\n",
       "    <tr>\n",
       "      <th>0</th>\n",
       "      <td>5</td>\n",
       "      <td>This book was the very first bookmobile book I...</td>\n",
       "      <td>482</td>\n",
       "      <td>book first bookmobile book buy school book clu...</td>\n",
       "      <td>26</td>\n",
       "    </tr>\n",
       "    <tr>\n",
       "      <th>1</th>\n",
       "      <td>1</td>\n",
       "      <td>When I read the description for this book, I c...</td>\n",
       "      <td>3223</td>\n",
       "      <td>read description book couldnt wait read downlo...</td>\n",
       "      <td>181</td>\n",
       "    </tr>\n",
       "    <tr>\n",
       "      <th>2</th>\n",
       "      <td>5</td>\n",
       "      <td>I just had to edit this review. This book is a...</td>\n",
       "      <td>3772</td>\n",
       "      <td>edit review book believe get right update rewr...</td>\n",
       "      <td>238</td>\n",
       "    </tr>\n",
       "    <tr>\n",
       "      <th>3</th>\n",
       "      <td>5</td>\n",
       "      <td>I don't normally buy 'mystery' novels because ...</td>\n",
       "      <td>564</td>\n",
       "      <td>dont normally buy mystery novels dont like how...</td>\n",
       "      <td>34</td>\n",
       "    </tr>\n",
       "    <tr>\n",
       "      <th>4</th>\n",
       "      <td>5</td>\n",
       "      <td>This isn't the kind of book I normally read, a...</td>\n",
       "      <td>603</td>\n",
       "      <td>isnt kind book normally read although try limi...</td>\n",
       "      <td>40</td>\n",
       "    </tr>\n",
       "  </tbody>\n",
       "</table>\n",
       "</div>"
      ],
      "text/plain": [
       "   rating                                         reviewText  word_count  \\\n",
       "0       5  This book was the very first bookmobile book I...         482   \n",
       "1       1  When I read the description for this book, I c...        3223   \n",
       "2       5  I just had to edit this review. This book is a...        3772   \n",
       "3       5  I don't normally buy 'mystery' novels because ...         564   \n",
       "4       5  This isn't the kind of book I normally read, a...         603   \n",
       "\n",
       "                                          word_lemma  word_lemma_count  \n",
       "0  book first bookmobile book buy school book clu...                26  \n",
       "1  read description book couldnt wait read downlo...               181  \n",
       "2  edit review book believe get right update rewr...               238  \n",
       "3  dont normally buy mystery novels dont like how...                34  \n",
       "4  isnt kind book normally read although try limi...                40  "
      ]
     },
     "execution_count": 113,
     "metadata": {},
     "output_type": "execute_result"
    }
   ],
   "source": [
    "report.head()"
   ]
  },
  {
   "cell_type": "code",
   "execution_count": null,
   "id": "1df045ef",
   "metadata": {},
   "outputs": [],
   "source": []
  }
 ],
 "metadata": {
  "kernelspec": {
   "display_name": "Python 3 (ipykernel)",
   "language": "python",
   "name": "python3"
  },
  "language_info": {
   "codemirror_mode": {
    "name": "ipython",
    "version": 3
   },
   "file_extension": ".py",
   "mimetype": "text/x-python",
   "name": "python",
   "nbconvert_exporter": "python",
   "pygments_lexer": "ipython3",
   "version": "3.9.7"
  }
 },
 "nbformat": 4,
 "nbformat_minor": 5
}
