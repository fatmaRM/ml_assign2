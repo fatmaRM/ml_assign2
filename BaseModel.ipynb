{
 "cells": [
  {
   "cell_type": "code",
   "execution_count": 23,
   "id": "5ab44734",
   "metadata": {},
   "outputs": [],
   "source": [
    "import pandas as pd\n",
    "from sklearn.model_selection import train_test_split\n",
    "\n",
    "from sklearn import model_selection\n",
    "from sklearn.naive_bayes import MultinomialNB\n",
    "#read file contains reviewtext in lemma segmentation  \n",
    "review_data = pd.read_csv('book_review_lemma.csv', index_col=0)"
   ]
  },
  {
   "cell_type": "code",
   "execution_count": 24,
   "id": "156d5a04",
   "metadata": {},
   "outputs": [],
   "source": [
    "review_data=review_data.drop(columns=['reviewText','word_count','word_lemma_count'])"
   ]
  },
  {
   "cell_type": "code",
   "execution_count": 27,
   "id": "6557732f",
   "metadata": {},
   "outputs": [
    {
     "data": {
      "text/plain": [
       "(12000, 7543)"
      ]
     },
     "execution_count": 27,
     "metadata": {},
     "output_type": "execute_result"
    }
   ],
   "source": [
    "from sklearn.feature_extraction.text import TfidfVectorizer\n",
    "tfidf = TfidfVectorizer(analyzer='word' , min_df=5, encoding='latin-1', stop_words='english')\n",
    "features = tfidf.fit_transform(review_data.word_lemma).toarray()\n",
    "features.shape"
   ]
  },
  {
   "cell_type": "code",
   "execution_count": 44,
   "id": "77ff27d1",
   "metadata": {},
   "outputs": [
    {
     "name": "stdout",
     "output_type": "stream",
     "text": [
      "NB: 0.813250 (0.006795)\n"
     ]
    }
   ],
   "source": [
    "\n",
    "# prepare configuration for cross validation test harness\n",
    "# NB model \n",
    "model= MultinomialNB()\n",
    "\n",
    "name = 'NB'\n",
    "scoring = 'accuracy' # balanced data \n",
    "#cross validation \n",
    "kfold = model_selection.KFold(n_splits=10)\n",
    "cv_results = model_selection.cross_val_score(model, features, review_data.rating, cv=kfold, scoring=scoring)\n",
    "\n",
    "\n",
    "msg = \"%s: %f (%f)\" % (name, cv_results.mean(), cv_results.std())\n",
    "print(msg)#mean and std "
   ]
  },
  {
   "cell_type": "code",
   "execution_count": null,
   "id": "ca038ab7",
   "metadata": {},
   "outputs": [],
   "source": []
  },
  {
   "cell_type": "code",
   "execution_count": null,
   "id": "1f89f82b",
   "metadata": {},
   "outputs": [],
   "source": []
  }
 ],
 "metadata": {
  "kernelspec": {
   "display_name": "Python 3 (ipykernel)",
   "language": "python",
   "name": "python3"
  },
  "language_info": {
   "codemirror_mode": {
    "name": "ipython",
    "version": 3
   },
   "file_extension": ".py",
   "mimetype": "text/x-python",
   "name": "python",
   "nbconvert_exporter": "python",
   "pygments_lexer": "ipython3",
   "version": "3.9.7"
  }
 },
 "nbformat": 4,
 "nbformat_minor": 5
}
